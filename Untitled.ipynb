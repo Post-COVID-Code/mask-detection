{
 "cells": [
  {
   "cell_type": "code",
   "execution_count": 8,
   "metadata": {},
   "outputs": [],
   "source": [
    "import cv2,os\n",
    "import numpy as np\n",
    "from keras.utils import np_utils\n",
    "from keras.models import Sequential\n",
    "from keras.layers import  Dense, Activation, Dropout, Conv2D, Flatten, MaxPooling2D\n",
    "from tensorflow.keras.callbacks import ModelCheckpoint\n",
    "from sklearn.model_selection import train_test_split\n",
    "from matplotlib import pyplot as plt\n",
    "from keras.models import load_model"
   ]
  },
  {
   "cell_type": "code",
   "execution_count": 9,
   "metadata": {},
   "outputs": [
    {
     "name": "stdout",
     "output_type": "stream",
     "text": [
      "{'without_mask': 0, 'with_mask': 1}\n",
      "['without_mask', 'with_mask']\n",
      "[0, 1]\n"
     ]
    }
   ],
   "source": [
    "datapath=r'C:\\Users\\raash\\Desktop\\FaceMask\\Dataset'\n",
    "categories = os.listdir(datapath)\n",
    "labels = [i for i in range(len(categories))]\n",
    "label_dict = dict(zip(categories,labels))\n",
    "print(label_dict)\n",
    "print(categories)\n",
    "print(labels)"
   ]
  },
  {
   "cell_type": "code",
   "execution_count": 10,
   "metadata": {},
   "outputs": [
    {
     "name": "stdout",
     "output_type": "stream",
     "text": [
      "Exception:  OpenCV(4.0.1) C:\\ci\\opencv-suite_1573470242804\\work\\modules\\imgproc\\src\\color.cpp:181: error: (-215:Assertion failed) !_src.empty() in function 'cv::cvtColor'\n",
      "\n"
     ]
    }
   ],
   "source": [
    "img_size = 150\n",
    "data = []\n",
    "target = []\n",
    "for category in categories:\n",
    "    folder_path = os.path.join(datapath,category) \n",
    "    img_names = os.listdir(folder_path)\n",
    "    \n",
    "    for img_name in img_names:\n",
    "        img_path = os.path.join(folder_path,img_name)\n",
    "        img = cv2.imread(img_path)\n",
    "        try:\n",
    "            gray = cv2.cvtColor(img,cv2.COLOR_BGR2GRAY)\n",
    "            resized = cv2.resize(gray,(img_size,img_size))\n",
    "            data.append(resized)\n",
    "            target.append(label_dict[category])\n",
    "        \n",
    "        except Exception as e:\n",
    "            print(\"Exception: \",e)"
   ]
  },
  {
   "cell_type": "code",
   "execution_count": 11,
   "metadata": {},
   "outputs": [],
   "source": [
    "data = np.array(data)/255.0  #data values are normalized\n",
    "data = np.reshape(data,(data.shape[0],img_size,img_size,1))\n",
    "target = np.array(target)\n",
    "new_target = np_utils.to_categorical(target)\n",
    "np.save('target',new_target)\n",
    "np.save('data',data)"
   ]
  },
  {
   "cell_type": "code",
   "execution_count": 12,
   "metadata": {},
   "outputs": [
    {
     "name": "stdout",
     "output_type": "stream",
     "text": [
      "Model: \"sequential\"\n",
      "_________________________________________________________________\n",
      "Layer (type)                 Output Shape              Param #   \n",
      "=================================================================\n",
      "conv2d (Conv2D)              (None, 148, 148, 200)     2000      \n",
      "_________________________________________________________________\n",
      "activation (Activation)      (None, 148, 148, 200)     0         \n",
      "_________________________________________________________________\n",
      "max_pooling2d (MaxPooling2D) (None, 74, 74, 200)       0         \n",
      "_________________________________________________________________\n",
      "conv2d_1 (Conv2D)            (None, 72, 72, 100)       180100    \n",
      "_________________________________________________________________\n",
      "activation_1 (Activation)    (None, 72, 72, 100)       0         \n",
      "_________________________________________________________________\n",
      "max_pooling2d_1 (MaxPooling2 (None, 36, 36, 100)       0         \n",
      "_________________________________________________________________\n",
      "flatten (Flatten)            (None, 129600)            0         \n",
      "_________________________________________________________________\n",
      "dropout (Dropout)            (None, 129600)            0         \n",
      "_________________________________________________________________\n",
      "dense (Dense)                (None, 50)                6480050   \n",
      "_________________________________________________________________\n",
      "dense_1 (Dense)              (None, 2)                 102       \n",
      "=================================================================\n",
      "Total params: 6,662,252\n",
      "Trainable params: 6,662,252\n",
      "Non-trainable params: 0\n",
      "_________________________________________________________________\n"
     ]
    }
   ],
   "source": [
    "data = np.load('data.npy')\n",
    "target = np.load('target.npy')\n",
    "model = Sequential()\n",
    "model.add(Conv2D(200,(3,3),input_shape=data.shape[1:]))\n",
    "model.add(Activation('relu'))\n",
    "model.add(MaxPooling2D(pool_size=(2,2)))\n",
    "model.add(Conv2D(100,(3,3)))\n",
    "model.add(Activation('relu'))\n",
    "model.add(MaxPooling2D(pool_size=(2,2)))\n",
    "model.add(Flatten())\n",
    "model.add(Dropout(0.5))\n",
    "model.add(Dense(50,activation='relu'))\n",
    "model.add(Dense(2,activation='softmax'))\n",
    "model.compile(optimizer='adam', loss='categorical_crossentropy', metrics = ['acc'])\n",
    "model.summary()"
   ]
  },
  {
   "cell_type": "code",
   "execution_count": 13,
   "metadata": {},
   "outputs": [],
   "source": [
    "train_data, test_data, train_target, test_target = train_test_split(data, target, test_size=0.1)"
   ]
  },
  {
   "cell_type": "code",
   "execution_count": 14,
   "metadata": {},
   "outputs": [],
   "source": [
    "checkpoint=ModelCheckpoint('model-{epoch:03d}.model', monitor='val_loss', verbose = 0, save_best_only = True,mode='auto')\n"
   ]
  },
  {
   "cell_type": "code",
   "execution_count": 15,
   "metadata": {},
   "outputs": [
    {
     "name": "stdout",
     "output_type": "stream",
     "text": [
      "Epoch 1/20\n",
      "31/31 [==============================] - ETA: 0s - loss: 0.7788 - acc: 0.5677WARNING:tensorflow:From C:\\Users\\raash\\anaconda3\\envs\\tensorflow-sessions\\lib\\site-packages\\tensorflow\\python\\training\\tracking\\tracking.py:111: Model.state_updates (from tensorflow.python.keras.engine.training) is deprecated and will be removed in a future version.\n",
      "Instructions for updating:\n",
      "This property should not be used in TensorFlow 2.0, as updates are applied automatically.\n",
      "WARNING:tensorflow:From C:\\Users\\raash\\anaconda3\\envs\\tensorflow-sessions\\lib\\site-packages\\tensorflow\\python\\training\\tracking\\tracking.py:111: Layer.updates (from tensorflow.python.keras.engine.base_layer) is deprecated and will be removed in a future version.\n",
      "Instructions for updating:\n",
      "This property should not be used in TensorFlow 2.0, as updates are applied automatically.\n",
      "INFO:tensorflow:Assets written to: model-001.model\\assets\n",
      "31/31 [==============================] - 91s 3s/step - loss: 0.7788 - acc: 0.5677 - val_loss: 0.6758 - val_acc: 0.5887\n",
      "Epoch 2/20\n",
      "31/31 [==============================] - ETA: 0s - loss: 0.5269 - acc: 0.7354INFO:tensorflow:Assets written to: model-002.model\\assets\n",
      "31/31 [==============================] - 95s 3s/step - loss: 0.5269 - acc: 0.7354 - val_loss: 0.3695 - val_acc: 0.8468\n",
      "Epoch 3/20\n",
      "31/31 [==============================] - ETA: 0s - loss: 0.3370 - acc: 0.8697INFO:tensorflow:Assets written to: model-003.model\\assets\n",
      "31/31 [==============================] - 91s 3s/step - loss: 0.3370 - acc: 0.8697 - val_loss: 0.3097 - val_acc: 0.8589\n",
      "Epoch 4/20\n",
      "31/31 [==============================] - ETA: 0s - loss: 0.2245 - acc: 0.9131INFO:tensorflow:Assets written to: model-004.model\\assets\n",
      "31/31 [==============================] - 88s 3s/step - loss: 0.2245 - acc: 0.9131 - val_loss: 0.2318 - val_acc: 0.9315\n",
      "Epoch 5/20\n",
      "31/31 [==============================] - 83s 3s/step - loss: 0.1726 - acc: 0.9414 - val_loss: 0.2422 - val_acc: 0.9194\n",
      "Epoch 6/20\n",
      "31/31 [==============================] - 88s 3s/step - loss: 0.1399 - acc: 0.9465 - val_loss: 0.2328 - val_acc: 0.9395\n",
      "Epoch 7/20\n",
      "31/31 [==============================] - ETA: 0s - loss: 0.1736 - acc: 0.9333INFO:tensorflow:Assets written to: model-007.model\\assets\n",
      "31/31 [==============================] - 93s 3s/step - loss: 0.1736 - acc: 0.9333 - val_loss: 0.2045 - val_acc: 0.9315\n",
      "Epoch 8/20\n",
      "31/31 [==============================] - 88s 3s/step - loss: 0.1154 - acc: 0.9596 - val_loss: 0.2700 - val_acc: 0.9073\n",
      "Epoch 9/20\n",
      "31/31 [==============================] - 98s 3s/step - loss: 0.1035 - acc: 0.9636 - val_loss: 0.2679 - val_acc: 0.9194\n",
      "Epoch 10/20\n",
      "31/31 [==============================] - 105s 3s/step - loss: 0.0680 - acc: 0.9768 - val_loss: 0.2689 - val_acc: 0.9355\n",
      "Epoch 11/20\n",
      "31/31 [==============================] - 97s 3s/step - loss: 0.0410 - acc: 0.9808 - val_loss: 0.2297 - val_acc: 0.9476\n",
      "Epoch 12/20\n",
      "31/31 [==============================] - 91s 3s/step - loss: 0.0400 - acc: 0.9889 - val_loss: 0.3298 - val_acc: 0.9435\n",
      "Epoch 13/20\n",
      "31/31 [==============================] - 98s 3s/step - loss: 0.0368 - acc: 0.9859 - val_loss: 0.2361 - val_acc: 0.9395\n",
      "Epoch 14/20\n",
      "31/31 [==============================] - ETA: 0s - loss: 0.0271 - acc: 0.9939INFO:tensorflow:Assets written to: model-014.model\\assets\n",
      "31/31 [==============================] - 90s 3s/step - loss: 0.0271 - acc: 0.9939 - val_loss: 0.1960 - val_acc: 0.9516\n",
      "Epoch 15/20\n",
      "31/31 [==============================] - 87s 3s/step - loss: 0.0330 - acc: 0.9859 - val_loss: 0.2176 - val_acc: 0.9516\n",
      "Epoch 16/20\n",
      "31/31 [==============================] - 88s 3s/step - loss: 0.0247 - acc: 0.9929 - val_loss: 0.3504 - val_acc: 0.9315\n",
      "Epoch 17/20\n",
      "31/31 [==============================] - 90s 3s/step - loss: 0.0460 - acc: 0.9848 - val_loss: 0.2368 - val_acc: 0.9556\n",
      "Epoch 18/20\n",
      "31/31 [==============================] - 84s 3s/step - loss: 0.0247 - acc: 0.9919 - val_loss: 0.2341 - val_acc: 0.9516\n",
      "Epoch 19/20\n",
      "31/31 [==============================] - 95s 3s/step - loss: 0.0241 - acc: 0.9929 - val_loss: 0.3233 - val_acc: 0.9435\n",
      "Epoch 20/20\n",
      "31/31 [==============================] - 83s 3s/step - loss: 0.0225 - acc: 0.9960 - val_loss: 0.2656 - val_acc: 0.9556\n"
     ]
    }
   ],
   "source": [
    "history = model.fit(train_data,train_target,epochs = 20, callbacks = [checkpoint], validation_split = 0.2)"
   ]
  },
  {
   "cell_type": "code",
   "execution_count": 16,
   "metadata": {},
   "outputs": [
    {
     "data": {
      "image/png": "[encoded data removed]",
      "text/plain": [
       "<Figure size 432x288 with 1 Axes>"
      ]
     },
     "metadata": {
      "needs_background": "light"
     },
     "output_type": "display_data"
    },
    {
     "data": {
      "image/png": "[encoded data removed]",
      "text/plain": [
       "<Figure size 432x288 with 1 Axes>"
      ]
     },
     "metadata": {
      "needs_background": "light"
     },
     "output_type": "display_data"
    }
   ],
   "source": [
    "plt.plot(history.history['acc'],'r',label='training accuracy')\n",
    "plt.plot(history.history['val_acc'],'b',label='validation accuracy')\n",
    "plt.xlabel('epochs')\n",
    "plt.ylabel('accuracy')\n",
    "plt.legend()\n",
    "plt.show()\n",
    "plt.plot(history.history['loss'],'r',label='training loss')\n",
    "plt.plot(history.history['val_loss'],'b',label='validation loss')\n",
    "plt.xlabel('epochs')\n",
    "plt.ylabel('loss')\n",
    "plt.legend()\n",
    "plt.show()"
   ]
  },
  {
   "cell_type": "code",
   "execution_count": 17,
   "metadata": {},
   "outputs": [
    {
     "name": "stdout",
     "output_type": "stream",
     "text": [
      "5/5 [==============================] - 2s 447ms/step - loss: 0.1355 - acc: 0.9565\n",
      "[0.135490283370018, 0.95652174949646]\n"
     ]
    }
   ],
   "source": [
    "print(model.evaluate(test_data,test_target))"
   ]
  },
  {
   "cell_type": "code",
   "execution_count": 18,
   "metadata": {},
   "outputs": [
    {
     "ename": "KeyboardInterrupt",
     "evalue": "",
     "output_type": "error",
     "traceback": [
      "\u001b[1;31m---------------------------------------------------------------------------\u001b[0m",
      "\u001b[1;31mKeyboardInterrupt\u001b[0m                         Traceback (most recent call last)",
      "\u001b[1;32m<ipython-input-18-60c0fd19cd4c>\u001b[0m in \u001b[0;36m<module>\u001b[1;34m\u001b[0m\n\u001b[0;32m      8\u001b[0m     \u001b[0mret\u001b[0m\u001b[1;33m,\u001b[0m\u001b[0mframe\u001b[0m \u001b[1;33m=\u001b[0m \u001b[0mvideo_capture\u001b[0m\u001b[1;33m.\u001b[0m\u001b[0mread\u001b[0m\u001b[1;33m(\u001b[0m\u001b[1;33m)\u001b[0m\u001b[1;33m\u001b[0m\u001b[1;33m\u001b[0m\u001b[0m\n\u001b[0;32m      9\u001b[0m     \u001b[0mgray\u001b[0m \u001b[1;33m=\u001b[0m \u001b[0mcv2\u001b[0m\u001b[1;33m.\u001b[0m\u001b[0mcvtColor\u001b[0m\u001b[1;33m(\u001b[0m\u001b[0mframe\u001b[0m\u001b[1;33m,\u001b[0m\u001b[0mcv2\u001b[0m\u001b[1;33m.\u001b[0m\u001b[0mCOLOR_BGR2GRAY\u001b[0m\u001b[1;33m)\u001b[0m\u001b[1;33m\u001b[0m\u001b[1;33m\u001b[0m\u001b[0m\n\u001b[1;32m---> 10\u001b[1;33m     \u001b[0mfaces\u001b[0m \u001b[1;33m=\u001b[0m \u001b[0mfaceCascade\u001b[0m\u001b[1;33m.\u001b[0m\u001b[0mdetectMultiScale\u001b[0m\u001b[1;33m(\u001b[0m\u001b[0mgray\u001b[0m\u001b[1;33m,\u001b[0m\u001b[1;36m1.3\u001b[0m\u001b[1;33m,\u001b[0m\u001b[1;36m5\u001b[0m\u001b[1;33m)\u001b[0m\u001b[1;33m\u001b[0m\u001b[1;33m\u001b[0m\u001b[0m\n\u001b[0m\u001b[0;32m     11\u001b[0m \u001b[1;33m\u001b[0m\u001b[0m\n\u001b[0;32m     12\u001b[0m     \u001b[1;32mfor\u001b[0m \u001b[0mx\u001b[0m\u001b[1;33m,\u001b[0m\u001b[0my\u001b[0m\u001b[1;33m,\u001b[0m\u001b[0mw\u001b[0m\u001b[1;33m,\u001b[0m\u001b[0mh\u001b[0m \u001b[1;32min\u001b[0m \u001b[0mfaces\u001b[0m\u001b[1;33m:\u001b[0m\u001b[1;33m\u001b[0m\u001b[1;33m\u001b[0m\u001b[0m\n",
      "\u001b[1;31mKeyboardInterrupt\u001b[0m: "
     ]
    }
   ],
   "source": [
    "model = load_model('model-014.model') #load the best model\n",
    "faceCascade=cv2.CascadeClassifier(r'C:\\Users\\raash\\Desktop\\FaceMask\\haarcascade_frontalface_default.xml')\n",
    "video_capture = cv2.VideoCapture(0)  #starts the webcam\n",
    "labels_dict = {0:'NO MASK',1:'MASK'}\n",
    "color_dict  = { 0:(0,0,255),1:(0,255,0)}\n",
    "\n",
    "while(True):\n",
    "    ret,frame = video_capture.read()\n",
    "    gray = cv2.cvtColor(frame,cv2.COLOR_BGR2GRAY)\n",
    "    faces = faceCascade.detectMultiScale(gray,1.3,5)\n",
    "    \n",
    "    for x,y,w,h in faces:\n",
    "        face_img = gray[y:y+w,x:x+h]\n",
    "        resized = cv2.resize(face_img,(img_size,img_size))\n",
    "        normalized = resized/255.0\n",
    "        reshaped = np.reshape(normalized,(1,img_size,img_size,1))\n",
    "        result = model.predict(reshaped)\n",
    "        \n",
    "        label = np.argmax(result,axis=1)[0]\n",
    "        cv2.rectangle(frame,(x,y),(x+w,y+h),color_dict[label],2)\n",
    "        cv2.putText(frame,labels_dict[label],(x,y-10),cv2.FONT_HERSHEY_SIMPLEX,0.8,(255,255,255),2)\n",
    "        \n",
    "    cv2.imshow('Video',frame)\n",
    "    key=cv2.waitKey(1)\n",
    "    \n",
    "    if(key==27):\n",
    "        break;\n",
    "        \n",
    "cv2.destroyAllWindows()\n",
    "video_capture.release()\n"
   ]
  },
  {
   "cell_type": "code",
   "execution_count": null,
   "metadata": {},
   "outputs": [],
   "source": []
  }
 ],
 "metadata": {
  "kernelspec": {
   "display_name": "Python 3",
   "language": "python",
   "name": "python3"
  },
  "language_info": {
   "codemirror_mode": {
    "name": "ipython",
    "version": 3
   },
   "file_extension": ".py",
   "mimetype": "text/x-python",
   "name": "python",
   "nbconvert_exporter": "python",
   "pygments_lexer": "ipython3",
   "version": "3.8.5"
  }
 },
 "nbformat": 4,
 "nbformat_minor": 4
}
